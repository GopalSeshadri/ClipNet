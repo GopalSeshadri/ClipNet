{
 "cells": [
  {
   "cell_type": "code",
   "execution_count": 1,
   "metadata": {},
   "outputs": [],
   "source": [
    "import numpy as np\n",
    "import pandas as pd\n",
    "import tensorflow as tf\n",
    "import pickle"
   ]
  },
  {
   "cell_type": "code",
   "execution_count": 2,
   "metadata": {},
   "outputs": [],
   "source": [
    "BATCH_SIZE = 256\n",
    "EPOCHS = 12\n",
    "LEARNING_RATE = 0.00003\n",
    "MARGIN = 10\n",
    "CAPTION_INPUT_SIZE = 300\n",
    "FRAME_INPUT_SIZE = 500\n",
    "CAPTION_LATENT_SIZE = 256\n",
    "FRAME_LATENT_SIZE = 256"
   ]
  },
  {
   "cell_type": "code",
   "execution_count": 3,
   "metadata": {},
   "outputs": [],
   "source": [
    "# Creating placeholders\n",
    "caption_placeholder = tf.placeholder(tf.float32, shape = [None, None, CAPTION_INPUT_SIZE])\n",
    "frame_1_placeholder = tf.placeholder(tf.float32, shape = [None, None, FRAME_INPUT_SIZE])\n",
    "frame_2_placeholder = tf.placeholder(tf.float32, shape = [None, None, FRAME_INPUT_SIZE])\n",
    "\n",
    "# Setting GPU config\n",
    "gpu_options = tf.GPUOptions(per_process_gpu_memory_fraction = 0.8)\n",
    "config = tf.ConfigProto(allow_soft_placement = True, gpu_options = gpu_options)\n",
    "config.gpu_options.allow_growth = True"
   ]
  },
  {
   "cell_type": "code",
   "execution_count": 4,
   "metadata": {},
   "outputs": [],
   "source": [
    "# Defining the Neural Network Graph for modified Siamese Network\n",
    "def train_caption_embeddings(x_placeholder, latent_dim):\n",
    "    cell = tf.nn.rnn_cell.GRUCell(latent_dim, kernel_initializer = tf.contrib.layers.variance_scaling_initializer(), name = 'caption_cells')\n",
    "    cells = tf.nn.rnn_cell.DropoutWrapper(cell, output_keep_prob = 0.5)\n",
    "    x, s = tf.nn.dynamic_rnn(cells, x_placeholder, dtype = tf.float32, swap_memory = True)\n",
    "    x = tf.contrib.layers.batch_norm(x, is_training = True, updates_collections = None)\n",
    "    x = tf.nn.dropout(x, rate = 0.5)\n",
    "    print(x.shape)\n",
    "    x = tf.reshape(x, shape = [-1, 50 * latent_dim])\n",
    "    print(x.shape)\n",
    "    x = tf.nn.dropout(x, rate = 0.5)\n",
    "    x = tf.layers.dense(x, latent_dim, kernel_initializer = tf.contrib.layers.variance_scaling_initializer())\n",
    "    out = tf.nn.relu(x)\n",
    "    print(out.shape)\n",
    "    return out\n",
    "\n",
    "def train_frame_embeddings(x_placeholder, latent_dim, reuse):\n",
    "    with tf.compat.v1.variable_scope('var', reuse = reuse):\n",
    "        cell = tf.nn.rnn_cell.GRUCell(latent_dim, kernel_initializer = tf.contrib.layers.variance_scaling_initializer(), name = 'frame_cells')\n",
    "        cells = tf.nn.rnn_cell.DropoutWrapper(cell, output_keep_prob = 0.5)\n",
    "        x, s = tf.nn.dynamic_rnn(cells, x_placeholder, dtype = tf.float32, swap_memory = True)\n",
    "        x = tf.contrib.layers.batch_norm(x, is_training = True, updates_collections = None)\n",
    "        x = tf.nn.dropout(x, rate = 0.5)\n",
    "        print(x.shape)\n",
    "        x = tf.reshape(x, shape = [-1, 50 * latent_dim])\n",
    "        print(x.shape)\n",
    "        x = tf.nn.dropout(x, rate = 0.5)\n",
    "        x = tf.layers.dense(x, latent_dim, kernel_initializer = tf.contrib.layers.variance_scaling_initializer())\n",
    "        out = tf.nn.relu(x)\n",
    "        print(out.shape)\n",
    "        return out"
   ]
  },
  {
   "cell_type": "code",
   "execution_count": 5,
   "metadata": {},
   "outputs": [
    {
     "name": "stdout",
     "output_type": "stream",
     "text": [
      "WARNING:tensorflow:\n",
      "The TensorFlow contrib module will not be included in TensorFlow 2.0.\n",
      "For more information, please see:\n",
      "  * https://github.com/tensorflow/community/blob/master/rfcs/20180907-contrib-sunset.md\n",
      "  * https://github.com/tensorflow/addons\n",
      "  * https://github.com/tensorflow/io (for I/O related ops)\n",
      "If you depend on functionality not listed there, please file an issue.\n",
      "\n",
      "WARNING:tensorflow:From <ipython-input-4-4bd95ea02567>:2: GRUCell.__init__ (from tensorflow.python.ops.rnn_cell_impl) is deprecated and will be removed in a future version.\n",
      "Instructions for updating:\n",
      "This class is equivalent as tf.keras.layers.GRUCell, and will be replaced by that in Tensorflow 2.0.\n",
      "WARNING:tensorflow:From <ipython-input-4-4bd95ea02567>:4: dynamic_rnn (from tensorflow.python.ops.rnn) is deprecated and will be removed in a future version.\n",
      "Instructions for updating:\n",
      "Please use `keras.layers.RNN(cell)`, which is equivalent to this API\n",
      "WARNING:tensorflow:From /usr/local/lib/python3.5/dist-packages/tensorflow_core/python/ops/rnn_cell_impl.py:559: Layer.add_variable (from tensorflow.python.keras.engine.base_layer) is deprecated and will be removed in a future version.\n",
      "Instructions for updating:\n",
      "Please use `layer.add_weight` method instead.\n",
      "WARNING:tensorflow:From /usr/local/lib/python3.5/dist-packages/tensorflow_core/python/ops/rnn_cell_impl.py:565: calling Constant.__init__ (from tensorflow.python.ops.init_ops) with dtype is deprecated and will be removed in a future version.\n",
      "Instructions for updating:\n",
      "Call initializer instance with the dtype argument instead of passing it to the constructor\n",
      "WARNING:tensorflow:From /usr/local/lib/python3.5/dist-packages/tensorflow_core/python/ops/rnn_cell_impl.py:575: calling Zeros.__init__ (from tensorflow.python.ops.init_ops) with dtype is deprecated and will be removed in a future version.\n",
      "Instructions for updating:\n",
      "Call initializer instance with the dtype argument instead of passing it to the constructor\n",
      "(?, ?, 256)\n",
      "(?, 12800)\n",
      "WARNING:tensorflow:From <ipython-input-4-4bd95ea02567>:11: dense (from tensorflow.python.layers.core) is deprecated and will be removed in a future version.\n",
      "Instructions for updating:\n",
      "Use keras.layers.Dense instead.\n",
      "WARNING:tensorflow:From /usr/local/lib/python3.5/dist-packages/tensorflow_core/python/layers/core.py:187: Layer.apply (from tensorflow.python.keras.engine.base_layer) is deprecated and will be removed in a future version.\n",
      "Instructions for updating:\n",
      "Please use `layer.__call__` method instead.\n",
      "(?, 256)\n",
      "(?, ?, 256)\n",
      "(?, 12800)\n",
      "(?, 256)\n",
      "(?, ?, 256)\n",
      "(?, 12800)\n",
      "(?, 256)\n"
     ]
    }
   ],
   "source": [
    "caption_out = train_caption_embeddings(caption_placeholder, CAPTION_LATENT_SIZE) #Anchor\n",
    "frame_out_1 = train_frame_embeddings(frame_1_placeholder, FRAME_LATENT_SIZE, reuse = None) #Positive\n",
    "frame_out_2 = train_frame_embeddings(frame_2_placeholder, FRAME_LATENT_SIZE, reuse = True) #Negative"
   ]
  },
  {
   "cell_type": "code",
   "execution_count": 6,
   "metadata": {},
   "outputs": [
    {
     "name": "stdout",
     "output_type": "stream",
     "text": [
      "WARNING:tensorflow:From /usr/local/lib/python3.5/dist-packages/tensorflow_core/python/ops/math_grad.py:1424: where (from tensorflow.python.ops.array_ops) is deprecated and will be removed in a future version.\n",
      "Instructions for updating:\n",
      "Use tf.where in 2.0, which has the same broadcast rule as np.where\n"
     ]
    }
   ],
   "source": [
    "# Triplet loss\n",
    "positive_distance = tf.reduce_sum(tf.square(caption_out - frame_out_1), 1)\n",
    "negative_distance = tf.reduce_sum(tf.square(caption_out - frame_out_2), 1)\n",
    "\n",
    "loss = tf.reduce_mean(tf.maximum(0., positive_distance - negative_distance + MARGIN))\n",
    "optimizer = tf.train.AdamOptimizer(learning_rate = LEARNING_RATE)\n",
    "train = optimizer.minimize(loss)\n",
    "\n",
    "# init = tf.global_variables_initializer()\n",
    "# sess = tf.Session()"
   ]
  },
  {
   "cell_type": "code",
   "execution_count": 7,
   "metadata": {},
   "outputs": [],
   "source": [
    "# Loading Triples\n",
    "with open(r'/home/login/Paired/train_triples_list.pickle', 'rb') as f:\n",
    "    train_triples_list = pickle.load(f)"
   ]
  },
  {
   "cell_type": "code",
   "execution_count": 8,
   "metadata": {},
   "outputs": [],
   "source": [
    "with open(r'/home/login/Paired/val_triples_list.pickle', 'rb') as f:\n",
    "    val_triples_list = pickle.load(f)"
   ]
  },
  {
   "cell_type": "code",
   "execution_count": 9,
   "metadata": {},
   "outputs": [],
   "source": [
    "train_anchor = np.stack([each[0] for each in train_triples_list], axis = 0)\n",
    "train_positive = np.stack([each[1] for each in train_triples_list], axis = 0)\n",
    "train_negative = np.stack([each[2] for each in train_triples_list], axis = 0)\n",
    "\n",
    "val_anchor = np.stack([each[0] for each in val_triples_list], axis = 0)\n",
    "val_positive = np.stack([each[1] for each in val_triples_list], axis = 0)\n",
    "val_negative = np.stack([each[2] for each in val_triples_list], axis = 0)"
   ]
  },
  {
   "cell_type": "code",
   "execution_count": 10,
   "metadata": {},
   "outputs": [
    {
     "data": {
      "text/plain": [
       "(461750, 50, 300)"
      ]
     },
     "execution_count": 10,
     "metadata": {},
     "output_type": "execute_result"
    }
   ],
   "source": [
    "train_anchor.shape"
   ]
  },
  {
   "cell_type": "code",
   "execution_count": 11,
   "metadata": {},
   "outputs": [
    {
     "data": {
      "text/plain": [
       "(461750, 50, 500)"
      ]
     },
     "execution_count": 11,
     "metadata": {},
     "output_type": "execute_result"
    }
   ],
   "source": [
    "train_positive.shape"
   ]
  },
  {
   "cell_type": "code",
   "execution_count": 12,
   "metadata": {},
   "outputs": [
    {
     "data": {
      "text/plain": [
       "(461750, 50, 500)"
      ]
     },
     "execution_count": 12,
     "metadata": {},
     "output_type": "execute_result"
    }
   ],
   "source": [
    "train_negative.shape"
   ]
  },
  {
   "cell_type": "code",
   "execution_count": 13,
   "metadata": {},
   "outputs": [
    {
     "data": {
      "text/plain": [
       "461750"
      ]
     },
     "execution_count": 13,
     "metadata": {},
     "output_type": "execute_result"
    }
   ],
   "source": [
    "len(train_positive)"
   ]
  },
  {
   "cell_type": "code",
   "execution_count": 14,
   "metadata": {},
   "outputs": [
    {
     "data": {
      "text/plain": [
       "(192750, 50, 300)"
      ]
     },
     "execution_count": 14,
     "metadata": {},
     "output_type": "execute_result"
    }
   ],
   "source": [
    "val_anchor.shape"
   ]
  },
  {
   "cell_type": "code",
   "execution_count": 15,
   "metadata": {},
   "outputs": [
    {
     "data": {
      "text/plain": [
       "(192750, 50, 500)"
      ]
     },
     "execution_count": 15,
     "metadata": {},
     "output_type": "execute_result"
    }
   ],
   "source": [
    "val_positive.shape"
   ]
  },
  {
   "cell_type": "code",
   "execution_count": 16,
   "metadata": {},
   "outputs": [
    {
     "data": {
      "text/plain": [
       "(192750, 50, 500)"
      ]
     },
     "execution_count": 16,
     "metadata": {},
     "output_type": "execute_result"
    }
   ],
   "source": [
    "val_negative.shape"
   ]
  },
  {
   "cell_type": "code",
   "execution_count": 17,
   "metadata": {},
   "outputs": [],
   "source": [
    "init = tf.global_variables_initializer()\n",
    "sess = tf.Session()"
   ]
  },
  {
   "cell_type": "code",
   "execution_count": 18,
   "metadata": {},
   "outputs": [
    {
     "name": "stdout",
     "output_type": "stream",
     "text": [
      "HELLLOOOO\n",
      "After epoch 0 train loss is 63549.4189 valid loss is 36486.9188\n",
      "HELLLOOOO\n",
      "After epoch 1 train loss is 29867.7935 valid loss is 28021.2649\n",
      "HELLLOOOO\n",
      "After epoch 2 train loss is 14676.2905 valid loss is 24506.2170\n",
      "HELLLOOOO\n",
      "After epoch 3 train loss is 8467.5998 valid loss is 23158.1907\n",
      "HELLLOOOO\n",
      "After epoch 4 train loss is 4191.7760 valid loss is 21162.8153\n",
      "HELLLOOOO\n",
      "After epoch 5 train loss is 2634.8604 valid loss is 19685.5260\n",
      "HELLLOOOO\n",
      "After epoch 6 train loss is 1598.2412 valid loss is 20698.8517\n",
      "HELLLOOOO\n",
      "After epoch 7 train loss is 961.6702 valid loss is 20438.2863\n",
      "HELLLOOOO\n",
      "After epoch 8 train loss is 939.7160 valid loss is 21661.0516\n",
      "HELLLOOOO\n",
      "After epoch 9 train loss is 563.9832 valid loss is 19992.6900\n",
      "HELLLOOOO\n",
      "After epoch 10 train loss is 434.4675 valid loss is 22847.0245\n",
      "HELLLOOOO\n",
      "After epoch 11 train loss is 358.2029 valid loss is 21163.5798\n"
     ]
    }
   ],
   "source": [
    "# Training the model\n",
    "sess.run(init)\n",
    "for i in range(EPOCHS):\n",
    "    for idx in range(0, train_anchor.shape[0], BATCH_SIZE):\n",
    "        anchor_batch, positive_batch, negative_batch = train_anchor[idx : idx + BATCH_SIZE], train_positive[idx : idx + BATCH_SIZE], train_negative[idx : idx + BATCH_SIZE]\n",
    "        sess.run(train, feed_dict = {caption_placeholder : anchor_batch, \\\n",
    "                                     frame_1_placeholder : positive_batch, \\\n",
    "                                     frame_2_placeholder : negative_batch})\n",
    "    \n",
    "    if i % 1 == 0:\n",
    "        print(\"HELLLOOOO\")\n",
    "        tot_loss, val_tot_loss = 0, 0\n",
    "        for idx in range(0, train_anchor.shape[0], BATCH_SIZE):\n",
    "            anchor_batch, positive_batch, negative_batch = train_anchor[idx : idx + BATCH_SIZE], train_positive[idx : idx + BATCH_SIZE], train_negative[idx : idx + BATCH_SIZE]\n",
    "            loss_ = sess.run(loss, feed_dict = {caption_placeholder : anchor_batch, \\\n",
    "                                            frame_1_placeholder : positive_batch, \\\n",
    "                                            frame_2_placeholder : negative_batch})\n",
    "            tot_loss += loss_\n",
    "            \n",
    "        for idx in range(0, val_anchor.shape[0], BATCH_SIZE):\n",
    "            val_anchor_batch, val_positive_batch, val_negative_batch = val_anchor[idx : idx + BATCH_SIZE], val_positive[idx : idx + BATCH_SIZE], val_negative[idx : idx + BATCH_SIZE]\n",
    "            val_loss_ = sess.run(loss, feed_dict = {caption_placeholder : val_anchor_batch, \\\n",
    "                                            frame_1_placeholder : val_positive_batch, \\\n",
    "                                            frame_2_placeholder : val_negative_batch})\n",
    "            val_tot_loss += val_loss_\n",
    "        print(\"After epoch {} train loss is {:.4f} valid loss is {:.4f}\".format(i, tot_loss, val_tot_loss))"
   ]
  },
  {
   "cell_type": "code",
   "execution_count": 20,
   "metadata": {},
   "outputs": [
    {
     "data": {
      "text/plain": [
       "(461750, 50, 300)"
      ]
     },
     "execution_count": 20,
     "metadata": {},
     "output_type": "execute_result"
    }
   ],
   "source": [
    "train_anchor.shape"
   ]
  },
  {
   "cell_type": "code",
   "execution_count": 21,
   "metadata": {},
   "outputs": [
    {
     "data": {
      "text/plain": [
       "'model_triplets'"
      ]
     },
     "execution_count": 21,
     "metadata": {},
     "output_type": "execute_result"
    }
   ],
   "source": [
    "saver = tf.train.Saver()\n",
    "saver.save(sess, 'model_triplets')"
   ]
  },
  {
   "cell_type": "code",
   "execution_count": 22,
   "metadata": {},
   "outputs": [],
   "source": [
    "with open(r'/home/login/Paired/val_pair.pickle', 'rb') as f:\n",
    "    test_pairs_list = pickle.load(f)"
   ]
  },
  {
   "cell_type": "code",
   "execution_count": 23,
   "metadata": {},
   "outputs": [],
   "source": [
    "# This is the pad pairs function defined in make_triples\n",
    "def pad_pairs(pair_list):\n",
    "    # max_frame_step = max([each[1].shape[0] for each in pair_list])\n",
    "    max_frame_step = 50\n",
    "    # print(max_frame_step)\n",
    "    for idx, each in enumerate(pair_list):\n",
    "        pair_list[idx][1] = np.vstack([each[1], np.zeros((max_frame_step - each[1].shape[0], 500))])\n",
    "\n",
    "    # print([each[1].shape for each in pair_list])\n",
    "    # print([t.shape for t in temp])\n",
    "\n",
    "    # max_caption_step = max([each[2].shape[0] for each in pair_list])\n",
    "    max_caption_step = 50\n",
    "    # print(max_caption_step)\n",
    "\n",
    "    for idx, each in enumerate(pair_list):\n",
    "        if each[2].shape[0] < 50:\n",
    "            pair_list[idx][2] = np.vstack([each[2], np.zeros((max_caption_step - each[2].shape[0], 300))])\n",
    "        else:\n",
    "            pair_list[idx][2] = each[2][:50, :]\n",
    "\n",
    "    # print([each[2].shape for each in pair_list])\n",
    "    return pair_list\n",
    "\n",
    "test_pairs_list = pad_pairs(test_pairs_list)"
   ]
  },
  {
   "cell_type": "code",
   "execution_count": 24,
   "metadata": {},
   "outputs": [],
   "source": [
    "test_frames = np.stack([each[1] for each in test_pairs_list], axis = 0)\n",
    "test_captions = np.stack([each[2] for each in test_pairs_list], axis = 0)"
   ]
  },
  {
   "cell_type": "code",
   "execution_count": 25,
   "metadata": {},
   "outputs": [
    {
     "data": {
      "text/plain": [
       "(771, 50, 300)"
      ]
     },
     "execution_count": 25,
     "metadata": {},
     "output_type": "execute_result"
    }
   ],
   "source": [
    "test_captions.shape"
   ]
  },
  {
   "cell_type": "code",
   "execution_count": 26,
   "metadata": {},
   "outputs": [],
   "source": [
    "test_size = test_frames.shape[0]"
   ]
  },
  {
   "cell_type": "code",
   "execution_count": 27,
   "metadata": {},
   "outputs": [],
   "source": [
    "frame_latent_vector = sess.run(frame_out_1, feed_dict = {frame_1_placeholder : test_frames})"
   ]
  },
  {
   "cell_type": "code",
   "execution_count": 28,
   "metadata": {},
   "outputs": [],
   "source": [
    "caption_latent_vector = sess.run(caption_out, feed_dict = {caption_placeholder : test_captions})"
   ]
  },
  {
   "cell_type": "code",
   "execution_count": 29,
   "metadata": {},
   "outputs": [
    {
     "data": {
      "text/plain": [
       "(771, 256)"
      ]
     },
     "execution_count": 29,
     "metadata": {},
     "output_type": "execute_result"
    }
   ],
   "source": [
    "caption_latent_vector.shape"
   ]
  },
  {
   "cell_type": "code",
   "execution_count": 30,
   "metadata": {},
   "outputs": [],
   "source": [
    "# Gives the rank of the corresponding clip for the given caption\n",
    "def get_rank(inp, idx):\n",
    "    out = [0] * len(inp)\n",
    "    for i, x in enumerate(sorted(range(len(inp)), key=lambda y: inp[y])):\n",
    "        out[x] = i\n",
    "    return out[idx]\n"
   ]
  },
  {
   "cell_type": "code",
   "execution_count": 50,
   "metadata": {},
   "outputs": [],
   "source": [
    "# Percentile metric\n",
    "percentile_list = []\n",
    "for i, caption_ in enumerate(caption_latent_vector):\n",
    "    euclidean_norm = np.linalg.norm(frame_latent_vector - caption_, axis=1).tolist() # finding the closest clip to the caption\n",
    "    percentile = ((test_size - get_rank(euclidean_norm, i))/test_size) * 100 # finding the percentile of the closest\n",
    "    percentile_list.append(percentile)"
   ]
  },
  {
   "cell_type": "code",
   "execution_count": 51,
   "metadata": {},
   "outputs": [
    {
     "name": "stdout",
     "output_type": "stream",
     "text": [
      "[94.55252918287937, 89.62386511024644, 47.85992217898833, 78.85862516212711, 36.835278858625166, 77.17250324254216, 98.57328145265889, 94.29312581063553, 51.621271076524, 73.54085603112841, 37.224383916990924, 36.057068741893644, 45.654993514915695, 13.09987029831388, 50.843060959792474, 49.0272373540856, 90.27237354085604, 64.07263294422827, 72.63294422827497, 0.9079118028534372, 95.07133592736704, 30.609597924773023, 97.53566796368352, 58.62516212710766, 88.58625162127107, 69.00129701686122, 91.18028534370947, 49.286640726329445, 37.48378728923476, 92.47730220492866, 49.93514915693904, 66.14785992217898, 87.80804150453956, 75.35667963683528, 89.75356679636836, 31.517509727626457, 79.76653696498055, 65.75875486381322, 90.79118028534371, 76.26459143968872, 15.304798962386512, 62.12710765239948, 33.33333333333333, 8.690012970168612, 94.55252918287937, 45.39559014267186, 82.23086900129701, 51.88067444876784, 90.92088197146563, 42.282749675745784, 27.237354085603112, 15.56420233463035, 13.229571984435799, 63.42412451361867, 52.39948119325552, 91.18028534370947, 24.25421530479896, 30.220492866407263, 16.731517509727624, 1.6861219195849546, 6.355382619974059, 7.652399481193256, 48.119325551232166, 53.82619974059663, 65.6290531776913, 32.555123216601814, 99.74059662775616, 96.49805447470817, 90.53177691309988, 73.92996108949417, 76.7833981841764, 96.75745784695201, 86.7704280155642, 85.60311284046692, 85.473411154345, 75.4863813229572, 51.36186770428015, 79.37743190661479, 64.85084306095979, 44.74708171206226, 78.72892347600519, 19.974059662775616, 74.96757457846952, 64.2023346303502, 4.669260700389105, 3.372243839169909, 18.93644617380026, 53.047989623865114, 86.38132295719845, 5.317769130998703, 63.94293125810635, 9.46822308690013, 3.501945525291829, 50.583657587548636, 62.2568093385214, 90.6614785992218, 24.643320363164722, 32.81452658884565, 18.67704280155642, 74.96757457846952, 59.79247730220493, 32.94422827496757, 64.85084306095979, 69.90920881971465, 83.91699092088197, 19.974059662775616, 49.416342412451364, 75.09727626459144, 81.19325551232166, 34.37094682230869, 96.23865110246433, 99.61089494163424, 92.60700389105058, 95.46044098573282, 38.3916990920882, 30.479896238651104, 37.224383916990924, 27.496757457846954, 92.99610894941634, 71.4656290531777, 60.83009079118028, 46.30350194552529, 17.769130998702984, 24.77302204928664, 39.16990920881972, 76.52399481193255, 3.501945525291829, 54.73411154345007, 34.37094682230869, 70.55771725032426, 49.6757457846952, 4.280155642023346, 10.246433203631646, 14.396887159533073, 82.49027237354085, 66.79636835278858, 84.17639429312581, 67.83398184176394, 99.09208819714657, 92.60700389105058, 92.7367055771725, 17.120622568093385, 60.95979247730221, 79.37743190661479, 81.32295719844358, 59.014267185473415, 39.429312581063556, 32.425421530479895, 21.91958495460441, 12.97016861219196, 39.0402075226978, 68.35278858625162, 16.861219195849547, 92.86640726329442, 32.295719844357976, 35.019455252918284, 65.88845654993514, 80.28534370946822, 70.55771725032426, 89.23476005188068, 0.12970168612191957, 3.501945525291829, 47.211413748378725, 67.18547341115433, 46.952010376134886, 80.41504539559014, 90.14267185473412, 96.10894941634241, 89.49416342412452, 70.94682230869002, 87.93774319066148, 95.9792477302205, 63.035019455252915, 52.2697795071336, 34.24124513618677, 19.1958495460441, 81.97146562905317, 54.08560311284047, 88.715953307393, 43.320363164721144, 77.30220492866408, 19.974059662775616, 77.56160830090792, 95.71984435797665, 97.79507133592736, 64.98054474708171, 98.31387808041504, 57.97665369649806, 76.52399481193255, 46.82230869001297, 69.26070038910505, 33.20363164721141, 55.90142671854734, 73.67055771725033, 89.62386511024644, 99.22178988326849, 38.13229571984436, 33.20363164721141, 77.82101167315176, 0.38910505836575876, 32.03631647211414, 10.116731517509727, 53.82619974059663, 77.30220492866408, 72.24383916990921, 97.14656290531777, 80.67444876783398, 28.27496757457847, 18.93644617380026, 60.440985732814525, 22.56809338521401, 47.47081712062256, 56.939040207522694, 41.63424124513619, 69.00129701686122, 59.014267185473415, 97.14656290531777, 52.2697795071336, 36.57587548638132, 46.17380025940337, 33.33333333333333, 26.588845654993516, 31.647211413748376, 8.949416342412452, 29.442282749675748, 28.01556420233463, 81.84176394293125, 59.79247730220493, 55.382619974059665, 38.26199740596628, 57.97665369649806, 64.07263294422827, 19.58495460440986, 65.11024643320363, 23.73540856031128, 93.25551232166018, 52.2697795071336, 12.710765239948119, 52.39948119325552, 97.66536964980544, 86.25162127107653, 52.39948119325552, 31.1284046692607, 44.487678339818416, 65.6290531776913, 24.90272373540856, 34.760051880674446, 79.89623865110246, 78.59922178988327, 31.387808041504538, 78.0804150453956, 30.86900129701686, 21.660181582360572, 5.966277561608301, 33.72243839169909, 54.60440985732814, 51.621271076524, 35.66796368352789, 31.906614785992215, 61.21919584954605, 18.80674448767834, 54.345006485084305, 49.54604409857328, 41.245136186770424, 2.9831387808041505, 85.34370946822308, 95.3307392996109, 60.83009079118028, 27.107652399481193, 52.39948119325552, 48.119325551232166, 51.621271076524, 78.85862516212711, 77.04280155642024, 82.49027237354085, 79.89623865110246, 40.33722438391699, 16.861219195849547, 11.284046692607005, 15.953307392996107, 15.304798962386512, 41.50453955901427, 12.710765239948119, 88.32684824902724, 3.761348897535668, 97.53566796368352, 73.15175097276264, 65.6290531776913, 85.34370946822308, 58.36575875486382, 41.37483787289234, 56.679636835278856, 71.98443579766537, 66.79636835278858, 24.643320363164722, 84.17639429312581, 15.953307392996107, 37.7431906614786, 26.588845654993516, 38.91050583657588, 12.97016861219196, 3.8910505836575875, 57.068741893644614, 54.60440985732814, 50.3242542153048, 65.75875486381322, 64.33203631647211, 92.86640726329442, 91.82879377431907, 85.60311284046692, 76.91309987029832, 69.90920881971465, 20.492866407263293, 85.99221789883269, 95.84954604409857, 23.476005188067443, 43.45006485084306, 12.19195849546044, 21.27107652399481, 39.16990920881972, 90.27237354085604, 91.56939040207523, 80.41504539559014, 55.90142671854734, 50.45395590142672, 42.4124513618677, 21.27107652399481, 1.8158236057068744, 41.115434500648504, 40.856031128404666, 30.609597924773023, 22.56809338521401, 20.881971465629054, 91.69909208819715, 46.69260700389105, 60.440985732814525, 45.26588845654994, 57.32814526588845, 32.295719844357976, 95.3307392996109, 64.33203631647211, 38.78080415045396, 47.60051880674448, 40.856031128404666, 71.59533073929961, 86.90012970168613, 97.53566796368352, 87.80804150453956, 85.99221789883269, 87.4189364461738, 98.96238651102465, 89.10505836575877, 97.4059662775616, 88.715953307393, 68.2230869001297, 61.73800259403372, 99.3514915693904, 77.95071335927368, 28.92347600518807, 76.00518806744488, 55.12321660181583, 58.754863813229576, 35.40856031128405, 34.63035019455253, 49.286640726329445, 43.060959792477306, 71.72503242542153, 94.68223086900129, 47.341115434500644, 54.345006485084305, 67.31517509727627, 71.59533073929961, 29.442282749675748, 37.094682230869005, 58.49546044098574, 50.3242542153048, 54.345006485084305, 54.60440985732814, 9.72762645914397, 72.24383916990921, 41.893644617380026, 8.949416342412452, 74.57846952010377, 66.14785992217898, 80.41504539559014, 33.07392996108949, 34.889753566796365, 43.190661478599225, 65.75875486381322, 63.68352788586251, 97.53566796368352, 76.52399481193255, 49.0272373540856, 18.80674448767834, 3.372243839169909, 71.72503242542153, 99.09208819714657, 33.20363164721141, 67.70428015564202, 78.98832684824903, 55.6420233463035, 11.154345006485086, 77.17250324254216, 71.20622568093385, 58.2360570687419, 89.10505836575877, 44.09857328145266, 56.679636835278856, 85.99221789883269, 16.861219195849547, 6.48508430609598, 80.93385214007782, 62.775616083009076, 45.784695201037614, 7.522697795071336, 16.601815823605705, 84.95460440985732, 88.45654993514916, 51.75097276264592, 63.035019455252915, 97.27626459143968, 82.36057068741893, 84.04669260700389, 30.86900129701686, 81.71206225680933, 21.91958495460441, 8.171206225680933, 88.0674448767834, 62.38651102464332, 45.0064850843061, 30.609597924773023, 63.035019455252915, 73.28145265888456, 47.47081712062256, 87.93774319066148, 88.0674448767834, 85.73281452658884, 64.85084306095979, 58.754863813229576, 35.27885862516213, 80.41504539559014, 93.12581063553826, 86.25162127107653, 28.92347600518807, 67.05577172503241, 63.42412451361867, 73.92996108949417, 55.512321660181584, 48.63813229571984, 58.884565499351496, 22.43839169909209, 65.88845654993514, 76.7833981841764, 79.76653696498055, 90.79118028534371, 52.918287937743195, 97.79507133592736, 92.7367055771725, 4.669260700389105, 19.45525291828794, 72.50324254215305, 99.48119325551232, 71.59533073929961, 83.65758754863813, 93.12581063553826, 52.39948119325552, 14.915693904020753, 54.99351491569391, 97.27626459143968, 99.61089494163424, 51.36186770428015, 68.2230869001297, 45.91439688715953, 66.53696498054474, 66.14785992217898, 34.63035019455253, 44.09857328145266, 8.300907911802852, 61.478599221789885, 38.13229571984436, 91.30998702983139, 67.96368352788586, 66.2775616083009, 73.92996108949417, 85.21400778210116, 78.98832684824903, 41.245136186770424, 70.42801556420234, 41.37483787289234, 58.10635538261998, 59.27367055771725, 2.075226977950713, 9.208819714656292, 32.94422827496757, 69.77950713359273, 15.693904020752269, 68.2230869001297, 56.939040207522694, 5.577172503242543, 55.12321660181583, 7.782101167315175, 29.05317769130999, 84.95460440985732, 52.788586251621275, 89.3644617380026, 68.09338521400778, 81.58236057068741, 16.990920881971466, 23.994811932555123, 59.014267185473415, 28.534370946822307, 2.594033722438392, 35.927367055771725, 19.58495460440986, 30.86900129701686, 16.08300907911803, 39.429312581063556, 98.96238651102465, 21.141374837872892, 19.45525291828794, 11.673151750972762, 22.43839169909209, 10.116731517509727, 41.76394293125811, 49.80544747081712, 21.27107652399481, 91.82879377431907, 71.59533073929961, 79.50713359273671, 89.10505836575877, 10.505836575875486, 56.54993514915694, 43.83916990920882, 48.76783398184176, 15.56420233463035, 64.46173800259403, 42.4124513618677, 53.95590142671855, 57.068741893644614, 71.33592736705577, 82.23086900129701, 71.4656290531777, 80.28534370946822, 33.59273670557717, 21.141374837872892, 68.74189364461738, 12.97016861219196, 67.70428015564202, 82.36057068741893, 88.0674448767834, 38.13229571984436, 3.8910505836575875, 24.77302204928664, 21.141374837872892, 94.42282749675745, 26.588845654993516, 9.72762645914397, 73.02204928664072, 60.70038910505836, 33.85214007782101, 7.133592736705577, 7.392996108949417, 74.8378728923476, 68.8715953307393, 16.472114137483786, 98.83268482490273, 97.01686121919585, 62.775616083009076, 95.20103761348896, 40.33722438391699, 5.836575875486381, 15.045395590142672, 65.49935149156939, 23.73540856031128, 19.45525291828794, 3.8910505836575875, 5.577172503242543, 72.50324254215305, 98.0544747081712, 0.9079118028534372, 7.522697795071336, 8.041504539559014, 85.473411154345, 7.652399481193256, 89.23476005188068, 85.08430609597924, 21.91958495460441, 44.61738002594034, 15.56420233463035, 2.4643320363164722, 8.041504539559014, 95.46044098573282, 21.27107652399481, 77.56160830090792, 2.4643320363164722, 5.966277561608301, 29.18287937743191, 16.731517509727624, 0.38910505836575876, 92.86640726329442, 63.29442282749675, 92.0881971465629, 29.831387808041505, 81.06355382619974, 88.715953307393, 31.906614785992215, 18.28793774319066, 11.802853437094681, 11.543450064850843, 100.0, 95.46044098573282, 71.72503242542153, 81.71206225680933, 89.23476005188068, 60.05188067444877, 39.29961089494164, 51.36186770428015, 19.45525291828794, 90.0129701686122, 54.86381322957199, 50.843060959792474, 53.82619974059663, 74.05966277561609, 89.10505836575877, 1.297016861219196, 22.04928664072633, 14.137483787289234, 33.98184176394293, 14.915693904020753, 70.8171206225681, 57.71725032425421, 87.80804150453956, 78.72892347600519, 75.87548638132296, 93.25551232166018, 71.4656290531777, 27.626459143968873, 75.61608300907912, 58.49546044098574, 64.72114137483787, 47.211413748378725, 46.30350194552529, 42.54215304798962, 93.3852140077821, 75.74578469520104, 74.18936446173801, 78.98832684824903, 15.045395590142672, 9.59792477302205, 67.18547341115433, 80.67444876783398, 28.01556420233463, 46.952010376134886, 5.317769130998703, 72.11413748378729, 77.30220492866408, 58.884565499351496, 24.90272373540856, 6.614785992217899, 12.5810635538262, 89.10505836575877, 66.9260700389105, 80.02594033722438, 7.522697795071336, 26.19974059662776, 70.68741893644618, 64.98054474708171, 84.04669260700389, 41.50453955901427, 76.52399481193255, 43.57976653696498, 76.1348897535668, 93.25551232166018, 44.74708171206226, 70.16861219195849, 76.91309987029832, 60.18158236057069, 31.776913099870296, 13.359273670557718, 42.023346303501945, 57.71725032425421, 93.77431906614785, 15.693904020752269, 80.67444876783398, 87.93774319066148, 97.14656290531777, 88.58625162127107, 32.425421530479895, 84.8249027237354, 7.652399481193256, 0.5188067444876783, 4.539559014267185, 52.788586251621275, 57.068741893644614, 81.06355382619974, 77.82101167315176, 37.61348897535668, 53.69649805447471, 26.848249027237355, 51.88067444876784, 75.87548638132296, 90.6614785992218, 16.731517509727624, 9.72762645914397, 47.73022049286641, 67.96368352788586, 39.81841763942931, 86.7704280155642, 75.74578469520104, 44.74708171206226, 89.75356679636836, 19.844357976653697, 2.075226977950713, 71.98443579766537, 4.669260700389105, 15.693904020752269, 77.431906614786, 83.65758754863813, 6.09597924773022, 69.13099870298313, 97.79507133592736, 81.97146562905317, 8.819714656290532, 90.79118028534371, 94.29312581063553, 98.96238651102465, 19.714656290531778, 49.0272373540856, 68.09338521400778, 55.252918287937746, 50.3242542153048, 69.39040207522697, 59.40337224383917, 40.46692607003891, 73.28145265888456, 17.380025940337223, 52.14007782101168, 56.16083009079118, 88.0674448767834, 57.58754863813229, 21.78988326848249, 94.55252918287937, 50.19455252918288, 6.48508430609598, 66.53696498054474, 92.21789883268482, 92.60700389105058, 85.34370946822308, 33.20363164721141, 56.54993514915694, 57.71725032425421, 92.21789883268482, 63.55382619974059, 38.52140077821012, 21.27107652399481, 25.94033722438392, 97.01686121919585, 93.51491569390402, 97.01686121919585, 92.34760051880674, 11.154345006485086, 54.99351491569391, 51.36186770428015, 12.19195849546044, 7.782101167315175, 7.133592736705577, 14.656290531776914, 1.8158236057068744, 39.0402075226978, 53.95590142671855, 54.215304798962386]\n"
     ]
    }
   ],
   "source": [
    "print(percentile_list)"
   ]
  },
  {
   "cell_type": "code",
   "execution_count": 52,
   "metadata": {},
   "outputs": [],
   "source": [
    "# Taking the top 20\n",
    "top20 = np.mean([1 if each > 80 else 0 for each in percentile_list])"
   ]
  },
  {
   "cell_type": "code",
   "execution_count": 53,
   "metadata": {},
   "outputs": [
    {
     "name": "stdout",
     "output_type": "stream",
     "text": [
      "The percentage of caption that matches with its closest clip is 0.8236\n"
     ]
    }
   ],
   "source": [
    "print('The percentage of caption with atleast 20 percentile is {:.4f}'.format(top20))"
   ]
  },
  {
   "cell_type": "code",
   "execution_count": 54,
   "metadata": {},
   "outputs": [],
   "source": [
    "top10 = np.mean([1 if each > 90 else 0 for each in percentile_list])"
   ]
  },
  {
   "cell_type": "code",
   "execution_count": 56,
   "metadata": {},
   "outputs": [
    {
     "name": "stdout",
     "output_type": "stream",
     "text": [
      "The percentage of caption with atleast 10 percentile is is 0.4156\n"
     ]
    }
   ],
   "source": [
    "print('The percentage of caption with atleast 10 percentile is is {:.4f}'.format(top10))"
   ]
  },
  {
   "cell_type": "code",
   "execution_count": null,
   "metadata": {},
   "outputs": [],
   "source": []
  }
 ],
 "metadata": {
  "kernelspec": {
   "display_name": "Python 3",
   "language": "python",
   "name": "python3"
  },
  "language_info": {
   "codemirror_mode": {
    "name": "ipython",
    "version": 3
   },
   "file_extension": ".py",
   "mimetype": "text/x-python",
   "name": "python",
   "nbconvert_exporter": "python",
   "pygments_lexer": "ipython3",
   "version": "3.6.9"
  }
 },
 "nbformat": 4,
 "nbformat_minor": 4
}
